{
 "cells": [
  {
   "cell_type": "markdown",
   "metadata": {},
   "source": [
    "### Implementation of Global Sequence Aligment Technique to compare genetic sequences"
   ]
  },
  {
   "cell_type": "code",
   "execution_count": 1,
   "metadata": {},
   "outputs": [],
   "source": [
    "from numpy import matrix\n",
    "\n",
    "# Assign values\n",
    "\n",
    "\n",
    "match = 3\n",
    "transition_mismatch = 0\n",
    "transversion_mismatch = -3\n",
    "gap = -1\n",
    "\n",
    "vertical_pointer = 'V '\n",
    "horizontal_pointer = 'H '\n",
    "diagonal_pointer = 'D '\n"
   ]
  },
  {
   "cell_type": "code",
   "execution_count": 2,
   "metadata": {},
   "outputs": [],
   "source": [
    "def mismatches(a,b): #change to equal not minus\n",
    "    if a == 1 and b==2 or a == 2 and b == 2:\n",
    "        return transition_mismatch\n",
    "    if a == 3 and b == 4 or a == 4 and b == 3:\n",
    "        return transition_mismatch\n",
    "    else:\n",
    "        return transversion_mismatch\n",
    "\n",
    "def check_match(a,b):\n",
    "\n",
    "    values_dict = {\n",
    "    'A': 1,\n",
    "    'G': 2,\n",
    "    'C': 3,\n",
    "    'T': 4,\n",
    "    }\n",
    "\n",
    "    if a == b:\n",
    "        return match\n",
    "    elif a == '-' or b == '-':\n",
    "        return gap\n",
    "    else:\n",
    "        l = values_dict[a]\n",
    "        k = values_dict[b]\n",
    "        return mismatches(l,k)\n"
   ]
  },
  {
   "cell_type": "code",
   "execution_count": 3,
   "metadata": {},
   "outputs": [],
   "source": [
    "def pointers(diagonal_value,horizontal_value,vertical_value):\n",
    "    pointer = max(diagonal_value,horizontal_value,vertical_value)\n",
    "    if diagonal_value == pointer:\n",
    "        if diagonal_value == horizontal_value:\n",
    "            return 'DH'\n",
    "        if diagonal_value == vertical_value:\n",
    "            return 'DV'\n",
    "        return diagonal_pointer\n",
    "    elif horizontal_value == pointer:\n",
    "        if horizontal_value == vertical_value:\n",
    "            return 'VH'\n",
    "        return horizontal_pointer\n",
    "    elif vertical_value == pointer:\n",
    "        return vertical_pointer"
   ]
  },
  {
   "cell_type": "code",
   "execution_count": 4,
   "metadata": {},
   "outputs": [],
   "source": [
    "\n",
    "sequence1 = 'GAATACAGTTATGC'\n",
    "sequence2 = 'GGATGCGTGATC'\n",
    "\n",
    "s1_l = list(sequence1)\n",
    "s2_l = list(sequence2)\n",
    "\n",
    "GSAPlot = [[0 for x in range(len(s1_l)+1)] for y in range(len(s2_l)+1)]\n",
    "PointerMatrix = [[0 for x in range(len(s1_l)+1)] for y in range(len(s2_l)+1)]\n",
    "\n",
    "#First gaps will be filled\n",
    "for i in range(len(s1_l)+1):\n",
    "\tGSAPlot[0][i] = GSAPlot[0][i]-i\n",
    "for j in range(len(s2_l)+1):\n",
    "\tGSAPlot[j][0]= GSAPlot[j][0]-j\n",
    "\n",
    "for i in range(1,len(s1_l)+1):\n",
    "\tPointerMatrix[0][i] = horizontal_pointer\n",
    "for j in range(1,len(s2_l)+1):\n",
    "\tPointerMatrix[j][0]= vertical_pointer"
   ]
  },
  {
   "cell_type": "code",
   "execution_count": 5,
   "metadata": {},
   "outputs": [],
   "source": [
    "\n",
    "\n",
    "for i in range(1,len(s1_l)+1):\n",
    "    for j in range(1,len(s2_l)+1):\n",
    "        diagonal_value = GSAPlot[j-1][i-1] + check_match(s1_l[i-1],s2_l[j-1])\n",
    "        horizontal_value = GSAPlot[j][i-1] + gap\n",
    "        vertical_value = GSAPlot[j-1][i] + gap\n",
    "        GSAPlot[j][i] = max(diagonal_value,horizontal_value,vertical_value)\n",
    "\n",
    "        PointerMatrix[j][i] = pointers(diagonal_value,horizontal_value,vertical_value)\n"
   ]
  },
  {
   "cell_type": "code",
   "execution_count": 6,
   "metadata": {},
   "outputs": [
    {
     "name": "stdout",
     "output_type": "stream",
     "text": [
      "The global aligment sequence matrix is: \n",
      " [[  0  -1  -2  -3  -4  -5  -6  -7  -8  -9 -10 -11 -12 -13 -14]\n",
      " [ -1   3   2   1   0  -1  -2  -3  -4  -5  -6  -7  -8  -9 -10]\n",
      " [ -2   2   3   2   1   0  -1  -2   0  -1  -2  -3  -4  -5  -6]\n",
      " [ -3   1   5   6   5   4   3   2   1   0  -1   1   0  -1  -2]\n",
      " [ -4   0   4   5   9   8   7   6   5   4   3   2   4   3   2]\n",
      " [ -5  -1   3   4   8   9   8   7   9   8   7   6   5   7   6]\n",
      " [ -6  -2   2   3   7   8  12  11  10   9   8   7   6   6  10]\n",
      " [ -7  -3   1   2   6   7  11  12  14  13  12  11  10   9   9]\n",
      " [ -8  -4   0   1   5   6  10  11  13  17  16  15  14  13  12]\n",
      " [ -9  -5  -1   0   4   5   9  10  14  16  15  16  15  17  16]\n",
      " [-10  -6  -2   2   3   7   8  12  13  15  14  18  17  16  15]\n",
      " [-11  -7  -3   1   5   6   7  11  12  16  18  17  21  20  19]\n",
      " [-12  -8  -4   0   4   5   9  10  11  15  17  16  20  19  23]] \n",
      "\n",
      "The pointer matrix is: \n",
      " [['0' 'H ' 'H ' 'H ' 'H ' 'H ' 'H ' 'H ' 'H ' 'H ' 'H ' 'H ' 'H ' 'H '\n",
      "  'H ']\n",
      " ['V ' 'D ' 'H ' 'H ' 'H ' 'H ' 'H ' 'H ' 'DH' 'H ' 'H ' 'H ' 'H ' 'DH'\n",
      "  'H ']\n",
      " ['V ' 'DV' 'D ' 'DH' 'H ' 'DH' 'H ' 'DH' 'D ' 'H ' 'H ' 'H ' 'H ' 'DH'\n",
      "  'H ']\n",
      " ['V ' 'V ' 'D ' 'D ' 'H ' 'DH' 'H ' 'DH' 'H ' 'H ' 'H ' 'D ' 'H ' 'H '\n",
      "  'H ']\n",
      " ['V ' 'V ' 'V ' 'V ' 'D ' 'H ' 'H ' 'H ' 'H ' 'DH' 'DH' 'H ' 'D ' 'H '\n",
      "  'H ']\n",
      " ['V ' 'DV' 'V ' 'DV' 'V ' 'D ' 'H ' 'DH' 'D ' 'H ' 'H ' 'H ' 'H ' 'D '\n",
      "  'H ']\n",
      " ['V ' 'V ' 'V ' 'V ' 'V ' 'V ' 'D ' 'H ' 'H ' 'DH' 'DH' 'H ' 'DH' 'V '\n",
      "  'D ']\n",
      " ['V ' 'DV' 'V ' 'DV' 'V ' 'DV' 'V ' 'D ' 'D ' 'H ' 'H ' 'H ' 'H ' 'DH'\n",
      "  'V ']\n",
      " ['V ' 'V ' 'V ' 'V ' 'DV' 'V ' 'V ' 'V ' 'V ' 'D ' 'DH' 'H ' 'DH' 'H '\n",
      "  'H ']\n",
      " ['V ' 'DV' 'V ' 'DV' 'V ' 'DV' 'V ' 'DV' 'D ' 'V ' 'VH' 'D ' 'H ' 'D '\n",
      "  'H ']\n",
      " ['V ' 'V ' 'DV' 'D ' 'V ' 'D ' 'V ' 'D ' 'V ' 'V ' 'VH' 'D ' 'H ' 'VH'\n",
      "  'VH']\n",
      " ['V ' 'V ' 'V ' 'V ' 'D ' 'V ' 'DV' 'V ' 'V ' 'D ' 'D ' 'VH' 'D ' 'H '\n",
      "  'H ']\n",
      " ['V ' 'V ' 'V ' 'V ' 'V ' 'V ' 'D ' 'V ' 'V ' 'V ' 'V ' 'VH' 'V ' 'VH'\n",
      "  'D ']]\n"
     ]
    }
   ],
   "source": [
    "gsa = matrix(GSAPlot)\n",
    "pm = matrix(PointerMatrix)\n",
    "\n",
    "print('The global aligment sequence matrix is: \\n', gsa,'\\n')\n",
    "print('The pointer matrix is: \\n',pm)\n"
   ]
  }
 ],
 "metadata": {
  "kernelspec": {
   "display_name": "Python 3",
   "language": "python",
   "name": "python3"
  },
  "language_info": {
   "codemirror_mode": {
    "name": "ipython",
    "version": 3
   },
   "file_extension": ".py",
   "mimetype": "text/x-python",
   "name": "python",
   "nbconvert_exporter": "python",
   "pygments_lexer": "ipython3",
   "version": "3.8.3rc1"
  }
 },
 "nbformat": 4,
 "nbformat_minor": 2
}
